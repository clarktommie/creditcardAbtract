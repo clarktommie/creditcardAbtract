{
 "cells": [
  {
   "cell_type": "code",
   "execution_count": 80,
   "metadata": {},
   "outputs": [],
   "source": [
    "# import libraries\n",
    "import pandas as pd\n",
    "import numpy as np\n",
    "import matplotlib.pyplot as plt\n",
    "import seaborn as sns"
   ]
  },
  {
   "cell_type": "code",
   "execution_count": 81,
   "metadata": {},
   "outputs": [
    {
     "data": {
      "application/vnd.microsoft.datawrangler.viewer.v0+json": {
       "columns": [
        {
         "name": "index",
         "rawType": "int64",
         "type": "integer"
        },
        {
         "name": "Merchant_id",
         "rawType": "int64",
         "type": "integer"
        },
        {
         "name": "Transaction date",
         "rawType": "float64",
         "type": "float"
        },
        {
         "name": "Average Amount/transaction/day",
         "rawType": "float64",
         "type": "float"
        },
        {
         "name": "Transaction_amount",
         "rawType": "float64",
         "type": "float"
        },
        {
         "name": "Is declined",
         "rawType": "object",
         "type": "string"
        },
        {
         "name": "Total Number of declines/day",
         "rawType": "int64",
         "type": "integer"
        },
        {
         "name": "isForeignTransaction",
         "rawType": "object",
         "type": "string"
        },
        {
         "name": "isHighRiskCountry",
         "rawType": "object",
         "type": "string"
        },
        {
         "name": "Daily_chargeback_avg_amt",
         "rawType": "int64",
         "type": "integer"
        },
        {
         "name": "6_month_avg_chbk_amt",
         "rawType": "float64",
         "type": "float"
        },
        {
         "name": "6-month_chbk_freq",
         "rawType": "int64",
         "type": "integer"
        },
        {
         "name": "isFradulent",
         "rawType": "object",
         "type": "string"
        }
       ],
       "conversionMethod": "pd.DataFrame",
       "ref": "a9cd309c-e272-4a36-a73e-c86affacad28",
       "rows": [
        [
         "0",
         "3160040998",
         null,
         "100.0",
         "3000.0",
         "N",
         "5",
         "Y",
         "Y",
         "0",
         "0.0",
         "0",
         "Y"
        ],
        [
         "1",
         "3160040998",
         null,
         "100.0",
         "4300.0",
         "N",
         "5",
         "Y",
         "Y",
         "0",
         "0.0",
         "0",
         "Y"
        ],
        [
         "2",
         "3160041896",
         null,
         "185.5",
         "4823.0",
         "Y",
         "5",
         "N",
         "N",
         "0",
         "0.0",
         "0",
         "Y"
        ],
        [
         "3",
         "3160141996",
         null,
         "185.5",
         "5008.5",
         "Y",
         "8",
         "N",
         "N",
         "0",
         "0.0",
         "0",
         "Y"
        ],
        [
         "4",
         "3160241992",
         null,
         "500.0",
         "26000.0",
         "N",
         "0",
         "Y",
         "Y",
         "800",
         "677.2",
         "6",
         "Y"
        ]
       ],
       "shape": {
        "columns": 12,
        "rows": 5
       }
      },
      "text/html": [
       "<div>\n",
       "<style scoped>\n",
       "    .dataframe tbody tr th:only-of-type {\n",
       "        vertical-align: middle;\n",
       "    }\n",
       "\n",
       "    .dataframe tbody tr th {\n",
       "        vertical-align: top;\n",
       "    }\n",
       "\n",
       "    .dataframe thead th {\n",
       "        text-align: right;\n",
       "    }\n",
       "</style>\n",
       "<table border=\"1\" class=\"dataframe\">\n",
       "  <thead>\n",
       "    <tr style=\"text-align: right;\">\n",
       "      <th></th>\n",
       "      <th>Merchant_id</th>\n",
       "      <th>Transaction date</th>\n",
       "      <th>Average Amount/transaction/day</th>\n",
       "      <th>Transaction_amount</th>\n",
       "      <th>Is declined</th>\n",
       "      <th>Total Number of declines/day</th>\n",
       "      <th>isForeignTransaction</th>\n",
       "      <th>isHighRiskCountry</th>\n",
       "      <th>Daily_chargeback_avg_amt</th>\n",
       "      <th>6_month_avg_chbk_amt</th>\n",
       "      <th>6-month_chbk_freq</th>\n",
       "      <th>isFradulent</th>\n",
       "    </tr>\n",
       "  </thead>\n",
       "  <tbody>\n",
       "    <tr>\n",
       "      <th>0</th>\n",
       "      <td>3160040998</td>\n",
       "      <td>NaN</td>\n",
       "      <td>100.0</td>\n",
       "      <td>3000.0</td>\n",
       "      <td>N</td>\n",
       "      <td>5</td>\n",
       "      <td>Y</td>\n",
       "      <td>Y</td>\n",
       "      <td>0</td>\n",
       "      <td>0.0</td>\n",
       "      <td>0</td>\n",
       "      <td>Y</td>\n",
       "    </tr>\n",
       "    <tr>\n",
       "      <th>1</th>\n",
       "      <td>3160040998</td>\n",
       "      <td>NaN</td>\n",
       "      <td>100.0</td>\n",
       "      <td>4300.0</td>\n",
       "      <td>N</td>\n",
       "      <td>5</td>\n",
       "      <td>Y</td>\n",
       "      <td>Y</td>\n",
       "      <td>0</td>\n",
       "      <td>0.0</td>\n",
       "      <td>0</td>\n",
       "      <td>Y</td>\n",
       "    </tr>\n",
       "    <tr>\n",
       "      <th>2</th>\n",
       "      <td>3160041896</td>\n",
       "      <td>NaN</td>\n",
       "      <td>185.5</td>\n",
       "      <td>4823.0</td>\n",
       "      <td>Y</td>\n",
       "      <td>5</td>\n",
       "      <td>N</td>\n",
       "      <td>N</td>\n",
       "      <td>0</td>\n",
       "      <td>0.0</td>\n",
       "      <td>0</td>\n",
       "      <td>Y</td>\n",
       "    </tr>\n",
       "    <tr>\n",
       "      <th>3</th>\n",
       "      <td>3160141996</td>\n",
       "      <td>NaN</td>\n",
       "      <td>185.5</td>\n",
       "      <td>5008.5</td>\n",
       "      <td>Y</td>\n",
       "      <td>8</td>\n",
       "      <td>N</td>\n",
       "      <td>N</td>\n",
       "      <td>0</td>\n",
       "      <td>0.0</td>\n",
       "      <td>0</td>\n",
       "      <td>Y</td>\n",
       "    </tr>\n",
       "    <tr>\n",
       "      <th>4</th>\n",
       "      <td>3160241992</td>\n",
       "      <td>NaN</td>\n",
       "      <td>500.0</td>\n",
       "      <td>26000.0</td>\n",
       "      <td>N</td>\n",
       "      <td>0</td>\n",
       "      <td>Y</td>\n",
       "      <td>Y</td>\n",
       "      <td>800</td>\n",
       "      <td>677.2</td>\n",
       "      <td>6</td>\n",
       "      <td>Y</td>\n",
       "    </tr>\n",
       "  </tbody>\n",
       "</table>\n",
       "</div>"
      ],
      "text/plain": [
       "   Merchant_id  Transaction date  Average Amount/transaction/day  \\\n",
       "0   3160040998               NaN                           100.0   \n",
       "1   3160040998               NaN                           100.0   \n",
       "2   3160041896               NaN                           185.5   \n",
       "3   3160141996               NaN                           185.5   \n",
       "4   3160241992               NaN                           500.0   \n",
       "\n",
       "   Transaction_amount Is declined  Total Number of declines/day  \\\n",
       "0              3000.0           N                             5   \n",
       "1              4300.0           N                             5   \n",
       "2              4823.0           Y                             5   \n",
       "3              5008.5           Y                             8   \n",
       "4             26000.0           N                             0   \n",
       "\n",
       "  isForeignTransaction isHighRiskCountry  Daily_chargeback_avg_amt  \\\n",
       "0                    Y                 Y                         0   \n",
       "1                    Y                 Y                         0   \n",
       "2                    N                 N                         0   \n",
       "3                    N                 N                         0   \n",
       "4                    Y                 Y                       800   \n",
       "\n",
       "   6_month_avg_chbk_amt  6-month_chbk_freq isFradulent  \n",
       "0                   0.0                  0           Y  \n",
       "1                   0.0                  0           Y  \n",
       "2                   0.0                  0           Y  \n",
       "3                   0.0                  0           Y  \n",
       "4                 677.2                  6           Y  "
      ]
     },
     "execution_count": 81,
     "metadata": {},
     "output_type": "execute_result"
    }
   ],
   "source": [
    "# Load data\n",
    "cc_fraud_df = pd.read_csv('creditcardcsvpresent.csv')\n",
    "cc_fraud_df.head()"
   ]
  },
  {
   "cell_type": "code",
   "execution_count": 82,
   "metadata": {},
   "outputs": [
    {
     "name": "stdout",
     "output_type": "stream",
     "text": [
      "<class 'pandas.core.frame.DataFrame'>\n",
      "RangeIndex: 3075 entries, 0 to 3074\n",
      "Data columns (total 12 columns):\n",
      " #   Column                          Non-Null Count  Dtype  \n",
      "---  ------                          --------------  -----  \n",
      " 0   Merchant_id                     3075 non-null   int64  \n",
      " 1   Transaction date                0 non-null      float64\n",
      " 2   Average Amount/transaction/day  3075 non-null   float64\n",
      " 3   Transaction_amount              3075 non-null   float64\n",
      " 4   Is declined                     3075 non-null   object \n",
      " 5   Total Number of declines/day    3075 non-null   int64  \n",
      " 6   isForeignTransaction            3075 non-null   object \n",
      " 7   isHighRiskCountry               3075 non-null   object \n",
      " 8   Daily_chargeback_avg_amt        3075 non-null   int64  \n",
      " 9   6_month_avg_chbk_amt            3075 non-null   float64\n",
      " 10  6-month_chbk_freq               3075 non-null   int64  \n",
      " 11  isFradulent                     3075 non-null   object \n",
      "dtypes: float64(4), int64(4), object(4)\n",
      "memory usage: 288.4+ KB\n"
     ]
    }
   ],
   "source": [
    "cc_fraud_df.info()"
   ]
  },
  {
   "cell_type": "code",
   "execution_count": 83,
   "metadata": {},
   "outputs": [
    {
     "data": {
      "application/vnd.microsoft.datawrangler.viewer.v0+json": {
       "columns": [
        {
         "name": "index",
         "rawType": "int64",
         "type": "integer"
        },
        {
         "name": "Merchant_id",
         "rawType": "int64",
         "type": "integer"
        },
        {
         "name": "Average Amount/transaction/day",
         "rawType": "float64",
         "type": "float"
        },
        {
         "name": "Transaction_amount",
         "rawType": "float64",
         "type": "float"
        },
        {
         "name": "Is declined",
         "rawType": "object",
         "type": "string"
        },
        {
         "name": "Total Number of declines/day",
         "rawType": "int64",
         "type": "integer"
        },
        {
         "name": "isForeignTransaction",
         "rawType": "object",
         "type": "string"
        },
        {
         "name": "isHighRiskCountry",
         "rawType": "object",
         "type": "string"
        },
        {
         "name": "Daily_chargeback_avg_amt",
         "rawType": "int64",
         "type": "integer"
        },
        {
         "name": "6_month_avg_chbk_amt",
         "rawType": "float64",
         "type": "float"
        },
        {
         "name": "6-month_chbk_freq",
         "rawType": "int64",
         "type": "integer"
        },
        {
         "name": "isFradulent",
         "rawType": "object",
         "type": "string"
        }
       ],
       "conversionMethod": "pd.DataFrame",
       "ref": "d0728133-0712-4b99-8449-37a486e21bd8",
       "rows": [
        [
         "0",
         "3160040998",
         "100.0",
         "3000.0",
         "N",
         "5",
         "Y",
         "Y",
         "0",
         "0.0",
         "0",
         "Y"
        ],
        [
         "1",
         "3160040998",
         "100.0",
         "4300.0",
         "N",
         "5",
         "Y",
         "Y",
         "0",
         "0.0",
         "0",
         "Y"
        ],
        [
         "2",
         "3160041896",
         "185.5",
         "4823.0",
         "Y",
         "5",
         "N",
         "N",
         "0",
         "0.0",
         "0",
         "Y"
        ],
        [
         "3",
         "3160141996",
         "185.5",
         "5008.5",
         "Y",
         "8",
         "N",
         "N",
         "0",
         "0.0",
         "0",
         "Y"
        ],
        [
         "4",
         "3160241992",
         "500.0",
         "26000.0",
         "N",
         "0",
         "Y",
         "Y",
         "800",
         "677.2",
         "6",
         "Y"
        ]
       ],
       "shape": {
        "columns": 11,
        "rows": 5
       }
      },
      "text/html": [
       "<div>\n",
       "<style scoped>\n",
       "    .dataframe tbody tr th:only-of-type {\n",
       "        vertical-align: middle;\n",
       "    }\n",
       "\n",
       "    .dataframe tbody tr th {\n",
       "        vertical-align: top;\n",
       "    }\n",
       "\n",
       "    .dataframe thead th {\n",
       "        text-align: right;\n",
       "    }\n",
       "</style>\n",
       "<table border=\"1\" class=\"dataframe\">\n",
       "  <thead>\n",
       "    <tr style=\"text-align: right;\">\n",
       "      <th></th>\n",
       "      <th>Merchant_id</th>\n",
       "      <th>Average Amount/transaction/day</th>\n",
       "      <th>Transaction_amount</th>\n",
       "      <th>Is declined</th>\n",
       "      <th>Total Number of declines/day</th>\n",
       "      <th>isForeignTransaction</th>\n",
       "      <th>isHighRiskCountry</th>\n",
       "      <th>Daily_chargeback_avg_amt</th>\n",
       "      <th>6_month_avg_chbk_amt</th>\n",
       "      <th>6-month_chbk_freq</th>\n",
       "      <th>isFradulent</th>\n",
       "    </tr>\n",
       "  </thead>\n",
       "  <tbody>\n",
       "    <tr>\n",
       "      <th>0</th>\n",
       "      <td>3160040998</td>\n",
       "      <td>100.0</td>\n",
       "      <td>3000.0</td>\n",
       "      <td>N</td>\n",
       "      <td>5</td>\n",
       "      <td>Y</td>\n",
       "      <td>Y</td>\n",
       "      <td>0</td>\n",
       "      <td>0.0</td>\n",
       "      <td>0</td>\n",
       "      <td>Y</td>\n",
       "    </tr>\n",
       "    <tr>\n",
       "      <th>1</th>\n",
       "      <td>3160040998</td>\n",
       "      <td>100.0</td>\n",
       "      <td>4300.0</td>\n",
       "      <td>N</td>\n",
       "      <td>5</td>\n",
       "      <td>Y</td>\n",
       "      <td>Y</td>\n",
       "      <td>0</td>\n",
       "      <td>0.0</td>\n",
       "      <td>0</td>\n",
       "      <td>Y</td>\n",
       "    </tr>\n",
       "    <tr>\n",
       "      <th>2</th>\n",
       "      <td>3160041896</td>\n",
       "      <td>185.5</td>\n",
       "      <td>4823.0</td>\n",
       "      <td>Y</td>\n",
       "      <td>5</td>\n",
       "      <td>N</td>\n",
       "      <td>N</td>\n",
       "      <td>0</td>\n",
       "      <td>0.0</td>\n",
       "      <td>0</td>\n",
       "      <td>Y</td>\n",
       "    </tr>\n",
       "    <tr>\n",
       "      <th>3</th>\n",
       "      <td>3160141996</td>\n",
       "      <td>185.5</td>\n",
       "      <td>5008.5</td>\n",
       "      <td>Y</td>\n",
       "      <td>8</td>\n",
       "      <td>N</td>\n",
       "      <td>N</td>\n",
       "      <td>0</td>\n",
       "      <td>0.0</td>\n",
       "      <td>0</td>\n",
       "      <td>Y</td>\n",
       "    </tr>\n",
       "    <tr>\n",
       "      <th>4</th>\n",
       "      <td>3160241992</td>\n",
       "      <td>500.0</td>\n",
       "      <td>26000.0</td>\n",
       "      <td>N</td>\n",
       "      <td>0</td>\n",
       "      <td>Y</td>\n",
       "      <td>Y</td>\n",
       "      <td>800</td>\n",
       "      <td>677.2</td>\n",
       "      <td>6</td>\n",
       "      <td>Y</td>\n",
       "    </tr>\n",
       "  </tbody>\n",
       "</table>\n",
       "</div>"
      ],
      "text/plain": [
       "   Merchant_id  Average Amount/transaction/day  Transaction_amount  \\\n",
       "0   3160040998                           100.0              3000.0   \n",
       "1   3160040998                           100.0              4300.0   \n",
       "2   3160041896                           185.5              4823.0   \n",
       "3   3160141996                           185.5              5008.5   \n",
       "4   3160241992                           500.0             26000.0   \n",
       "\n",
       "  Is declined  Total Number of declines/day isForeignTransaction  \\\n",
       "0           N                             5                    Y   \n",
       "1           N                             5                    Y   \n",
       "2           Y                             5                    N   \n",
       "3           Y                             8                    N   \n",
       "4           N                             0                    Y   \n",
       "\n",
       "  isHighRiskCountry  Daily_chargeback_avg_amt  6_month_avg_chbk_amt  \\\n",
       "0                 Y                         0                   0.0   \n",
       "1                 Y                         0                   0.0   \n",
       "2                 N                         0                   0.0   \n",
       "3                 N                         0                   0.0   \n",
       "4                 Y                       800                 677.2   \n",
       "\n",
       "   6-month_chbk_freq isFradulent  \n",
       "0                  0           Y  \n",
       "1                  0           Y  \n",
       "2                  0           Y  \n",
       "3                  0           Y  \n",
       "4                  6           Y  "
      ]
     },
     "execution_count": 83,
     "metadata": {},
     "output_type": "execute_result"
    }
   ],
   "source": [
    "# remove column Transaction date\n",
    "cc_fraud_df = cc_fraud_df.drop('Transaction date', axis=1)\n",
    "cc_fraud_df.head()"
   ]
  },
  {
   "cell_type": "code",
   "execution_count": 84,
   "metadata": {},
   "outputs": [
    {
     "data": {
      "text/plain": [
       "Merchant_id                       0\n",
       "Average Amount/transaction/day    0\n",
       "Transaction_amount                0\n",
       "Is declined                       0\n",
       "Total Number of declines/day      0\n",
       "isForeignTransaction              0\n",
       "isHighRiskCountry                 0\n",
       "Daily_chargeback_avg_amt          0\n",
       "6_month_avg_chbk_amt              0\n",
       "6-month_chbk_freq                 0\n",
       "isFradulent                       0\n",
       "dtype: int64"
      ]
     },
     "execution_count": 84,
     "metadata": {},
     "output_type": "execute_result"
    }
   ],
   "source": [
    "# check for missing values\n",
    "cc_fraud_df.isnull().sum()"
   ]
  },
  {
   "cell_type": "code",
   "execution_count": 85,
   "metadata": {},
   "outputs": [
    {
     "data": {
      "application/vnd.microsoft.datawrangler.viewer.v0+json": {
       "columns": [
        {
         "name": "index",
         "rawType": "int64",
         "type": "integer"
        },
        {
         "name": "Merchant_id",
         "rawType": "int64",
         "type": "integer"
        },
        {
         "name": "Average Amount/transaction/day",
         "rawType": "float64",
         "type": "float"
        },
        {
         "name": "Transaction_amount",
         "rawType": "float64",
         "type": "float"
        },
        {
         "name": "Is declined",
         "rawType": "int64",
         "type": "integer"
        },
        {
         "name": "Total Number of declines/day",
         "rawType": "int64",
         "type": "integer"
        },
        {
         "name": "isForeignTransaction",
         "rawType": "int64",
         "type": "integer"
        },
        {
         "name": "isHighRiskCountry",
         "rawType": "int64",
         "type": "integer"
        },
        {
         "name": "Daily_chargeback_avg_amt",
         "rawType": "int64",
         "type": "integer"
        },
        {
         "name": "6_month_avg_chbk_amt",
         "rawType": "float64",
         "type": "float"
        },
        {
         "name": "6-month_chbk_freq",
         "rawType": "int64",
         "type": "integer"
        },
        {
         "name": "isFradulent",
         "rawType": "int64",
         "type": "integer"
        }
       ],
       "conversionMethod": "pd.DataFrame",
       "ref": "d5a6930d-0d07-4062-abdf-9596d0da927d",
       "rows": [
        [
         "0",
         "3160040998",
         "100.0",
         "3000.0",
         "0",
         "5",
         "1",
         "1",
         "0",
         "0.0",
         "0",
         "1"
        ],
        [
         "1",
         "3160040998",
         "100.0",
         "4300.0",
         "0",
         "5",
         "1",
         "1",
         "0",
         "0.0",
         "0",
         "1"
        ],
        [
         "2",
         "3160041896",
         "185.5",
         "4823.0",
         "1",
         "5",
         "0",
         "0",
         "0",
         "0.0",
         "0",
         "1"
        ],
        [
         "3",
         "3160141996",
         "185.5",
         "5008.5",
         "1",
         "8",
         "0",
         "0",
         "0",
         "0.0",
         "0",
         "1"
        ],
        [
         "4",
         "3160241992",
         "500.0",
         "26000.0",
         "0",
         "0",
         "1",
         "1",
         "800",
         "677.2",
         "6",
         "1"
        ]
       ],
       "shape": {
        "columns": 11,
        "rows": 5
       }
      },
      "text/html": [
       "<div>\n",
       "<style scoped>\n",
       "    .dataframe tbody tr th:only-of-type {\n",
       "        vertical-align: middle;\n",
       "    }\n",
       "\n",
       "    .dataframe tbody tr th {\n",
       "        vertical-align: top;\n",
       "    }\n",
       "\n",
       "    .dataframe thead th {\n",
       "        text-align: right;\n",
       "    }\n",
       "</style>\n",
       "<table border=\"1\" class=\"dataframe\">\n",
       "  <thead>\n",
       "    <tr style=\"text-align: right;\">\n",
       "      <th></th>\n",
       "      <th>Merchant_id</th>\n",
       "      <th>Average Amount/transaction/day</th>\n",
       "      <th>Transaction_amount</th>\n",
       "      <th>Is declined</th>\n",
       "      <th>Total Number of declines/day</th>\n",
       "      <th>isForeignTransaction</th>\n",
       "      <th>isHighRiskCountry</th>\n",
       "      <th>Daily_chargeback_avg_amt</th>\n",
       "      <th>6_month_avg_chbk_amt</th>\n",
       "      <th>6-month_chbk_freq</th>\n",
       "      <th>isFradulent</th>\n",
       "    </tr>\n",
       "  </thead>\n",
       "  <tbody>\n",
       "    <tr>\n",
       "      <th>0</th>\n",
       "      <td>3160040998</td>\n",
       "      <td>100.0</td>\n",
       "      <td>3000.0</td>\n",
       "      <td>0</td>\n",
       "      <td>5</td>\n",
       "      <td>1</td>\n",
       "      <td>1</td>\n",
       "      <td>0</td>\n",
       "      <td>0.0</td>\n",
       "      <td>0</td>\n",
       "      <td>1</td>\n",
       "    </tr>\n",
       "    <tr>\n",
       "      <th>1</th>\n",
       "      <td>3160040998</td>\n",
       "      <td>100.0</td>\n",
       "      <td>4300.0</td>\n",
       "      <td>0</td>\n",
       "      <td>5</td>\n",
       "      <td>1</td>\n",
       "      <td>1</td>\n",
       "      <td>0</td>\n",
       "      <td>0.0</td>\n",
       "      <td>0</td>\n",
       "      <td>1</td>\n",
       "    </tr>\n",
       "    <tr>\n",
       "      <th>2</th>\n",
       "      <td>3160041896</td>\n",
       "      <td>185.5</td>\n",
       "      <td>4823.0</td>\n",
       "      <td>1</td>\n",
       "      <td>5</td>\n",
       "      <td>0</td>\n",
       "      <td>0</td>\n",
       "      <td>0</td>\n",
       "      <td>0.0</td>\n",
       "      <td>0</td>\n",
       "      <td>1</td>\n",
       "    </tr>\n",
       "    <tr>\n",
       "      <th>3</th>\n",
       "      <td>3160141996</td>\n",
       "      <td>185.5</td>\n",
       "      <td>5008.5</td>\n",
       "      <td>1</td>\n",
       "      <td>8</td>\n",
       "      <td>0</td>\n",
       "      <td>0</td>\n",
       "      <td>0</td>\n",
       "      <td>0.0</td>\n",
       "      <td>0</td>\n",
       "      <td>1</td>\n",
       "    </tr>\n",
       "    <tr>\n",
       "      <th>4</th>\n",
       "      <td>3160241992</td>\n",
       "      <td>500.0</td>\n",
       "      <td>26000.0</td>\n",
       "      <td>0</td>\n",
       "      <td>0</td>\n",
       "      <td>1</td>\n",
       "      <td>1</td>\n",
       "      <td>800</td>\n",
       "      <td>677.2</td>\n",
       "      <td>6</td>\n",
       "      <td>1</td>\n",
       "    </tr>\n",
       "  </tbody>\n",
       "</table>\n",
       "</div>"
      ],
      "text/plain": [
       "   Merchant_id  Average Amount/transaction/day  Transaction_amount  \\\n",
       "0   3160040998                           100.0              3000.0   \n",
       "1   3160040998                           100.0              4300.0   \n",
       "2   3160041896                           185.5              4823.0   \n",
       "3   3160141996                           185.5              5008.5   \n",
       "4   3160241992                           500.0             26000.0   \n",
       "\n",
       "   Is declined  Total Number of declines/day  isForeignTransaction  \\\n",
       "0            0                             5                     1   \n",
       "1            0                             5                     1   \n",
       "2            1                             5                     0   \n",
       "3            1                             8                     0   \n",
       "4            0                             0                     1   \n",
       "\n",
       "   isHighRiskCountry  Daily_chargeback_avg_amt  6_month_avg_chbk_amt  \\\n",
       "0                  1                         0                   0.0   \n",
       "1                  1                         0                   0.0   \n",
       "2                  0                         0                   0.0   \n",
       "3                  0                         0                   0.0   \n",
       "4                  1                       800                 677.2   \n",
       "\n",
       "   6-month_chbk_freq  isFradulent  \n",
       "0                  0            1  \n",
       "1                  0            1  \n",
       "2                  0            1  \n",
       "3                  0            1  \n",
       "4                  6            1  "
      ]
     },
     "execution_count": 85,
     "metadata": {},
     "output_type": "execute_result"
    }
   ],
   "source": [
    "# change Y N to 1 0\n",
    "cc_fraud_df['Is declined'] = cc_fraud_df['Is declined'].map({'Y': 1, 'N': 0})\n",
    "cc_fraud_df['isForeignTransaction'] = cc_fraud_df['isForeignTransaction'].map({'Y': 1, 'N': 0})\n",
    "cc_fraud_df['isHighRiskCountry'] = cc_fraud_df['isHighRiskCountry'].map({'Y': 1, 'N': 0})\n",
    "cc_fraud_df['isFradulent'] = cc_fraud_df['isFradulent'].map({'Y': 1, 'N': 0})\n",
    "cc_fraud_df.head()"
   ]
  },
  {
   "cell_type": "code",
   "execution_count": 86,
   "metadata": {},
   "outputs": [
    {
     "name": "stdout",
     "output_type": "stream",
     "text": [
      "<class 'pandas.core.frame.DataFrame'>\n",
      "RangeIndex: 3075 entries, 0 to 3074\n",
      "Data columns (total 11 columns):\n",
      " #   Column                          Non-Null Count  Dtype  \n",
      "---  ------                          --------------  -----  \n",
      " 0   Merchant_id                     3075 non-null   int64  \n",
      " 1   Average Amount/transaction/day  3075 non-null   float64\n",
      " 2   Transaction_amount              3075 non-null   float64\n",
      " 3   Is declined                     3075 non-null   int64  \n",
      " 4   Total Number of declines/day    3075 non-null   int64  \n",
      " 5   isForeignTransaction            3075 non-null   int64  \n",
      " 6   isHighRiskCountry               3075 non-null   int64  \n",
      " 7   Daily_chargeback_avg_amt        3075 non-null   int64  \n",
      " 8   6_month_avg_chbk_amt            3075 non-null   float64\n",
      " 9   6-month_chbk_freq               3075 non-null   int64  \n",
      " 10  isFradulent                     3075 non-null   int64  \n",
      "dtypes: float64(3), int64(8)\n",
      "memory usage: 264.4 KB\n"
     ]
    }
   ],
   "source": [
    "cc_fraud_df.info()"
   ]
  },
  {
   "cell_type": "markdown",
   "metadata": {},
   "source": [
    "### Label Breakdown:\n",
    "(0, 0): True Negative (TN) – Transactions that are not fraudulent and not declined.\n",
    "\n",
    "(0, 1): False Positive (FP) – Transactions that are not fraudulent but declined.\n",
    "\n",
    "(1, 0): False Negative (FN) – Transactions that are fraudulent but not declined.\n",
    "\n",
    "(1, 1): True Positive (TP) – Transactions that are fraudulent and declined."
   ]
  },
  {
   "cell_type": "code",
   "execution_count": 87,
   "metadata": {},
   "outputs": [
    {
     "data": {
      "image/png": "[encoded data removed]",
      "text/plain": [
       "<Figure size 600x400 with 2 Axes>"
      ]
     },
     "metadata": {},
     "output_type": "display_data"
    },
    {
     "data": {
      "image/png": "[encoded data removed]",
      "text/plain": [
       "<Figure size 600x400 with 2 Axes>"
      ]
     },
     "metadata": {},
     "output_type": "display_data"
    }
   ],
   "source": [
    "## Create a cross-tabulation (frequency table) for isFraudulent and isDeclined\n",
    "heatmap_data = pd.crosstab(cc_fraud_df['isFradulent'], cc_fraud_df['Is declined'])\n",
    "\n",
    "# Plot the heatmap\n",
    "plt.figure(figsize=(6, 4))\n",
    "sns.heatmap(heatmap_data, annot=True, cmap='Blues', fmt='d', linewidths=0.5)\n",
    "plt.xlabel('Is Declined')\n",
    "plt.ylabel('Is Fraudulent')\n",
    "plt.title('Heatmap of Fraudulent vs Declined Transactions')\n",
    "plt.show()\n",
    "# Create a cross-tabulation (frequency table) for isFraudulent and isDeclined\n",
    "heatmap_data = pd.crosstab(cc_fraud_df['isFradulent'], cc_fraud_df['Is declined'])\n",
    "\n",
    "# Plot the heatmap\n",
    "plt.figure(figsize=(6, 4))\n",
    "sns.heatmap(heatmap_data, annot=True, cmap='Blues', fmt='d', linewidths=0.5)\n",
    "plt.xlabel('Is Declined')\n",
    "plt.ylabel('Is Fraudulent')\n",
    "plt.title('Heatmap of Fraudulent vs Declined Transactions')\n",
    "plt.show()"
   ]
  },
  {
   "cell_type": "code",
   "execution_count": 88,
   "metadata": {},
   "outputs": [
    {
     "data": {
      "application/vnd.microsoft.datawrangler.viewer.v0+json": {
       "columns": [
        {
         "name": "index",
         "rawType": "int64",
         "type": "integer"
        },
        {
         "name": "Merchant_id",
         "rawType": "int64",
         "type": "integer"
        },
        {
         "name": "Avg Amount Per Day",
         "rawType": "float64",
         "type": "float"
        },
        {
         "name": "Transaction_amount",
         "rawType": "float64",
         "type": "float"
        },
        {
         "name": "Is declined",
         "rawType": "int64",
         "type": "integer"
        },
        {
         "name": "Number of declines per Day",
         "rawType": "int64",
         "type": "integer"
        },
        {
         "name": "isForeignTransaction",
         "rawType": "int64",
         "type": "integer"
        },
        {
         "name": "isHighRiskCountry",
         "rawType": "int64",
         "type": "integer"
        },
        {
         "name": "Daily_chargeback_avg_amt",
         "rawType": "int64",
         "type": "integer"
        },
        {
         "name": "6_month_avg_chbk_amt",
         "rawType": "float64",
         "type": "float"
        },
        {
         "name": "6-month chargeback freq",
         "rawType": "int64",
         "type": "integer"
        },
        {
         "name": "isFradulent",
         "rawType": "int64",
         "type": "integer"
        }
       ],
       "conversionMethod": "pd.DataFrame",
       "ref": "0b3b700b-3d4f-4b07-9e8b-4b102c07c614",
       "rows": [
        [
         "0",
         "3160040998",
         "100.0",
         "3000.0",
         "0",
         "5",
         "1",
         "1",
         "0",
         "0.0",
         "0",
         "1"
        ],
        [
         "1",
         "3160040998",
         "100.0",
         "4300.0",
         "0",
         "5",
         "1",
         "1",
         "0",
         "0.0",
         "0",
         "1"
        ],
        [
         "2",
         "3160041896",
         "185.5",
         "4823.0",
         "1",
         "5",
         "0",
         "0",
         "0",
         "0.0",
         "0",
         "1"
        ],
        [
         "3",
         "3160141996",
         "185.5",
         "5008.5",
         "1",
         "8",
         "0",
         "0",
         "0",
         "0.0",
         "0",
         "1"
        ],
        [
         "4",
         "3160241992",
         "500.0",
         "26000.0",
         "0",
         "0",
         "1",
         "1",
         "800",
         "677.2",
         "6",
         "1"
        ]
       ],
       "shape": {
        "columns": 11,
        "rows": 5
       }
      },
      "text/html": [
       "<div>\n",
       "<style scoped>\n",
       "    .dataframe tbody tr th:only-of-type {\n",
       "        vertical-align: middle;\n",
       "    }\n",
       "\n",
       "    .dataframe tbody tr th {\n",
       "        vertical-align: top;\n",
       "    }\n",
       "\n",
       "    .dataframe thead th {\n",
       "        text-align: right;\n",
       "    }\n",
       "</style>\n",
       "<table border=\"1\" class=\"dataframe\">\n",
       "  <thead>\n",
       "    <tr style=\"text-align: right;\">\n",
       "      <th></th>\n",
       "      <th>Merchant_id</th>\n",
       "      <th>Avg Amount Per Day</th>\n",
       "      <th>Transaction_amount</th>\n",
       "      <th>Is declined</th>\n",
       "      <th>Number of declines per Day</th>\n",
       "      <th>isForeignTransaction</th>\n",
       "      <th>isHighRiskCountry</th>\n",
       "      <th>Daily_chargeback_avg_amt</th>\n",
       "      <th>6_month_avg_chbk_amt</th>\n",
       "      <th>6-month chargeback freq</th>\n",
       "      <th>isFradulent</th>\n",
       "    </tr>\n",
       "  </thead>\n",
       "  <tbody>\n",
       "    <tr>\n",
       "      <th>0</th>\n",
       "      <td>3160040998</td>\n",
       "      <td>100.0</td>\n",
       "      <td>3000.0</td>\n",
       "      <td>0</td>\n",
       "      <td>5</td>\n",
       "      <td>1</td>\n",
       "      <td>1</td>\n",
       "      <td>0</td>\n",
       "      <td>0.0</td>\n",
       "      <td>0</td>\n",
       "      <td>1</td>\n",
       "    </tr>\n",
       "    <tr>\n",
       "      <th>1</th>\n",
       "      <td>3160040998</td>\n",
       "      <td>100.0</td>\n",
       "      <td>4300.0</td>\n",
       "      <td>0</td>\n",
       "      <td>5</td>\n",
       "      <td>1</td>\n",
       "      <td>1</td>\n",
       "      <td>0</td>\n",
       "      <td>0.0</td>\n",
       "      <td>0</td>\n",
       "      <td>1</td>\n",
       "    </tr>\n",
       "    <tr>\n",
       "      <th>2</th>\n",
       "      <td>3160041896</td>\n",
       "      <td>185.5</td>\n",
       "      <td>4823.0</td>\n",
       "      <td>1</td>\n",
       "      <td>5</td>\n",
       "      <td>0</td>\n",
       "      <td>0</td>\n",
       "      <td>0</td>\n",
       "      <td>0.0</td>\n",
       "      <td>0</td>\n",
       "      <td>1</td>\n",
       "    </tr>\n",
       "    <tr>\n",
       "      <th>3</th>\n",
       "      <td>3160141996</td>\n",
       "      <td>185.5</td>\n",
       "      <td>5008.5</td>\n",
       "      <td>1</td>\n",
       "      <td>8</td>\n",
       "      <td>0</td>\n",
       "      <td>0</td>\n",
       "      <td>0</td>\n",
       "      <td>0.0</td>\n",
       "      <td>0</td>\n",
       "      <td>1</td>\n",
       "    </tr>\n",
       "    <tr>\n",
       "      <th>4</th>\n",
       "      <td>3160241992</td>\n",
       "      <td>500.0</td>\n",
       "      <td>26000.0</td>\n",
       "      <td>0</td>\n",
       "      <td>0</td>\n",
       "      <td>1</td>\n",
       "      <td>1</td>\n",
       "      <td>800</td>\n",
       "      <td>677.2</td>\n",
       "      <td>6</td>\n",
       "      <td>1</td>\n",
       "    </tr>\n",
       "  </tbody>\n",
       "</table>\n",
       "</div>"
      ],
      "text/plain": [
       "   Merchant_id  Avg Amount Per Day  Transaction_amount  Is declined  \\\n",
       "0   3160040998               100.0              3000.0            0   \n",
       "1   3160040998               100.0              4300.0            0   \n",
       "2   3160041896               185.5              4823.0            1   \n",
       "3   3160141996               185.5              5008.5            1   \n",
       "4   3160241992               500.0             26000.0            0   \n",
       "\n",
       "   Number of declines per Day  isForeignTransaction  isHighRiskCountry  \\\n",
       "0                           5                     1                  1   \n",
       "1                           5                     1                  1   \n",
       "2                           5                     0                  0   \n",
       "3                           8                     0                  0   \n",
       "4                           0                     1                  1   \n",
       "\n",
       "   Daily_chargeback_avg_amt  6_month_avg_chbk_amt  6-month chargeback freq  \\\n",
       "0                         0                   0.0                        0   \n",
       "1                         0                   0.0                        0   \n",
       "2                         0                   0.0                        0   \n",
       "3                         0                   0.0                        0   \n",
       "4                       800                 677.2                        6   \n",
       "\n",
       "   isFradulent  \n",
       "0            1  \n",
       "1            1  \n",
       "2            1  \n",
       "3            1  \n",
       "4            1  "
      ]
     },
     "execution_count": 88,
     "metadata": {},
     "output_type": "execute_result"
    }
   ],
   "source": [
    "# rename long columns for ease of use\n",
    "cc_fraud_df = cc_fraud_df.rename(columns={'Average Amount/transaction/day': 'Avg Amount Per Day',\n",
    "                                          'Total Number of declines/day': 'Number of declines per Day',\n",
    "                                          '6-month_chbk_freq': '6-month chargeback freq'})\n",
    "cc_fraud_df.head()\n"
   ]
  },
  {
   "cell_type": "code",
   "execution_count": 89,
   "metadata": {},
   "outputs": [],
   "source": [
    "# split and train the data\n",
    "from sklearn.model_selection import train_test_split\n",
    "\n",
    "\n",
    "X = cc_fraud_df.drop('isFradulent', axis=1)\n",
    "y = cc_fraud_df['isFradulent']\n",
    "X_train, X_test, y_train, y_test = train_test_split(X, y, test_size=0.2, random_state=42)\n",
    "\n",
    "# scale the data\n",
    "from sklearn.preprocessing import StandardScaler\n",
    "\n",
    "scaler = StandardScaler()\n",
    "X_train = scaler.fit_transform(X_train)\n",
    "X_test = scaler.transform(X_test)\n"
   ]
  },
  {
   "cell_type": "code",
   "execution_count": 97,
   "metadata": {},
   "outputs": [
    {
     "name": "stdout",
     "output_type": "stream",
     "text": [
      "Accuracy: 0.14796747967479676\n",
      "Confusion Matrix:\n",
      " [[ 17 495]\n",
      " [ 29  74]]\n"
     ]
    },
    {
     "data": {
      "image/png": "[encoded data removed]",
      "text/plain": [
       "<Figure size 800x600 with 1 Axes>"
      ]
     },
     "metadata": {},
     "output_type": "display_data"
    }
   ],
   "source": [
    "import matplotlib.pyplot as plt\n",
    "import seaborn as sns\n",
    "from sklearn.decomposition import PCA\n",
    "from sklearn.cluster import KMeans\n",
    "from sklearn.metrics import accuracy_score, confusion_matrix\n",
    "\n",
    "# Train the clustering model\n",
    "kmeans = KMeans(n_clusters=2, random_state=42)\n",
    "kmeans.fit(X_train)\n",
    "\n",
    "# Predict the clusters for the test data\n",
    "y_pred = kmeans.predict(X_test)\n",
    "\n",
    "# Calculate the accuracy of the model\n",
    "accuracy = accuracy_score(y_test, y_pred)\n",
    "print('Accuracy:', accuracy)\n",
    "\n",
    "# Create a confusion matrix\n",
    "confusion = confusion_matrix(y_test, y_pred)\n",
    "print('Confusion Matrix:\\n', confusion)\n",
    "\n",
    "# Reduce dimensions to 2D for visualization\n",
    "pca = PCA(n_components=2)\n",
    "X_test_2D = pca.fit_transform(X_test)\n",
    "\n",
    "# Scatter plot to visualize clusters\n",
    "plt.figure(figsize=(8, 6))\n",
    "sns.scatterplot(x=X_test_2D[:, 0], y=X_test_2D[:, 1], hue=y_pred, palette='coolwarm', s=50)\n",
    "plt.title(\"K-Means Clustering Visualization\")\n",
    "plt.xlabel(\"PCA Component 1\")\n",
    "plt.ylabel(\"PCA Component 2\")\n",
    "plt.legend(title=\"Cluster\")\n",
    "plt.show()\n"
   ]
  },
  {
   "cell_type": "code",
   "execution_count": 95,
   "metadata": {},
   "outputs": [
    {
     "name": "stdout",
     "output_type": "stream",
     "text": [
      "Accuracy: 0.848780487804878\n",
      "Confusion Matrix:\n",
      " [[493  19]\n",
      " [ 74  29]]\n"
     ]
    },
    {
     "data": {
      "image/png": "[encoded data removed]",
      "text/plain": [
       "<Figure size 800x600 with 1 Axes>"
      ]
     },
     "metadata": {},
     "output_type": "display_data"
    }
   ],
   "source": [
    "import matplotlib.pyplot as plt\n",
    "import seaborn as sns\n",
    "from sklearn.decomposition import PCA\n",
    "from sklearn.cluster import AgglomerativeClustering\n",
    "from sklearn.metrics import accuracy_score, confusion_matrix\n",
    "\n",
    "# Train on training data\n",
    "agg_train = AgglomerativeClustering(n_clusters=2, linkage='ward')\n",
    "y_train_pred = agg_train.fit_predict(X_train)\n",
    "\n",
    "# Train a new model for test data (since Agglomerative Clustering doesn’t generalize)\n",
    "agg_test = AgglomerativeClustering(n_clusters=2, linkage='ward')\n",
    "y_test_pred = agg_test.fit_predict(X_test)\n",
    "\n",
    "# Compute \"accuracy\" by comparing clusters with true labels (not always meaningful for clustering)\n",
    "accuracy = accuracy_score(y_test, y_test_pred)\n",
    "print('Accuracy:', accuracy)\n",
    "\n",
    "# Confusion matrix\n",
    "confusion = confusion_matrix(y_test, y_test_pred)\n",
    "print('Confusion Matrix:\\n', confusion)\n",
    "\n",
    "# Reduce dimensions to 2D for visualization\n",
    "pca = PCA(n_components=2)\n",
    "X_train_2D = pca.fit_transform(X_train)\n",
    "\n",
    "# Scatter plot to visualize clusters\n",
    "plt.figure(figsize=(8, 6))\n",
    "sns.scatterplot(x=X_train_2D[:, 0], y=X_train_2D[:, 1], hue=y_train_pred, palette='coolwarm', s=50)\n",
    "plt.title(\"Agglomerative Clustering Visualization\")\n",
    "plt.xlabel(\"PCA Component 1\")\n",
    "plt.ylabel(\"PCA Component 2\")\n",
    "plt.legend(title=\"Cluster\")\n",
    "plt.show()\n"
   ]
  }
 ],
 "metadata": {
  "kernelspec": {
   "display_name": "base",
   "language": "python",
   "name": "python3"
  },
  "language_info": {
   "codemirror_mode": {
    "name": "ipython",
    "version": 3
   },
   "file_extension": ".py",
   "mimetype": "text/x-python",
   "name": "python",
   "nbconvert_exporter": "python",
   "pygments_lexer": "ipython3",
   "version": "3.12.7"
  }
 },
 "nbformat": 4,
 "nbformat_minor": 2
}
